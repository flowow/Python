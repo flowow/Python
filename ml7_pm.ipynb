{
 "cells": [
  {
   "cell_type": "markdown",
   "metadata": {},
   "source": [
    "### 선형대수"
   ]
  },
  {
   "cell_type": "code",
   "execution_count": 5,
   "metadata": {},
   "outputs": [
    {
     "name": "stdout",
     "output_type": "stream",
     "text": [
      "평균: 15.7\n",
      "29.96312548598508\n"
     ]
    }
   ],
   "source": [
    "import math\n",
    "num_friends=[100,15,10,10,9,4,3,3,2,1]\n",
    "def mean(x):\n",
    "    return sum(x)/len(x)\n",
    "def dot(v,w):\n",
    "    return sum(vi*wi for vi,wi in zip(v,w))\n",
    "def sum_of_squares(v):\n",
    "    return dot(v,v)\n",
    "def de_mean(x): #각 요소와 평균 차이\n",
    "    x_bar=mean(x)\n",
    "    print(\"평균:\",x_bar)\n",
    "    return [xi-x_bar for xi in x] \n",
    "def variance(x):\n",
    "    n=len(x)\n",
    "    deviations=de_mean(x) #분산=인수 제곱들의 합\n",
    "    return sum_of_squares(deviations)/(n-1) #모분산일때는 n\n",
    "def standard_deviation(x):\n",
    "    return math.sqrt(variance(x)) \n",
    "    \n",
    "print(standard_deviation(num_friends))\n",
    "# print(sum_of_squares(num_friends))\n",
    "# print(mean(num_friends))"
   ]
  },
  {
   "cell_type": "code",
   "execution_count": 7,
   "metadata": {},
   "outputs": [
    {
     "name": "stdout",
     "output_type": "stream",
     "text": [
      "평균: 5.8\n",
      "평균: 4.2\n",
      "평균: 5.8\n",
      "평균: 4.2\n",
      "공부시간과 점수의 공분산 10.8\n"
     ]
    }
   ],
   "source": [
    "#상관계수: feature 선택시 유용하게 쓰임\n",
    "study_time=[10,2,5,9,3]\n",
    "score=[7,1,3,8,2]\n",
    "n=len(score)\n",
    "def covariance(x,y): \n",
    "    de_mean(x)\n",
    "    de_mean(y)\n",
    "    return dot(de_mean(x),de_mean(y))/(n-1) #내적\n",
    "def standard_deviation\n",
    "#공분산: 서로의 분산이 유사하게 증가 또는 감소하는 패턴\n",
    "#dot연산 결과가 크게 나오면 -> 서로의 분산이 유사하게 증가하거나 감소하는 경향\n",
    "print(\"공부시간과 점수의 공분산\",covariance(study_time,score))"
   ]
  },
  {
   "cell_type": "code",
   "execution_count": 8,
   "metadata": {},
   "outputs": [
    {
     "name": "stdout",
     "output_type": "stream",
     "text": [
      "평균: 5.8\n",
      "평균: 4.2\n",
      "평균: 5.8\n",
      "평균: 4.2\n",
      "평균: 5.8\n",
      "평균: 4.2\n",
      "10.8\n",
      "평균: 5.8\n",
      "평균: 4.2\n",
      "평균: 5.8\n",
      "평균: 4.2\n",
      "상관계수: 0.9730519512573655\n"
     ]
    }
   ],
   "source": [
    "def correlation(x,y):\n",
    "    stdev_x=standard_deviation(x)\n",
    "    stdev_y=standard_deviation(y)\n",
    "#     print(\"x표준편차:\",stdev_x,\"y표준편차:\",stdev_y)\n",
    "    if stdev_x>0 and stdev_y>0:\n",
    "        print(covariance(x,y))\n",
    "        return covariance(x,y)/stdev_x/stdev_y # 상관계수:공분산/각각의 분산의 곱\n",
    "    else: \n",
    "        return 0 #편차가 없으므로 상관관계는 0\n",
    "print(\"상관계수:\", correlation(study_time,score))\n",
    "#상관계수는 항상 -1~1사이의 값을 갖게됨"
   ]
  },
  {
   "cell_type": "code",
   "execution_count": 30,
   "metadata": {},
   "outputs": [
    {
     "name": "stdout",
     "output_type": "stream",
     "text": [
      "{'더파티': 5, '말모이': 4, '존잼탱': 1.5}\n",
      "None\n",
      "2\n",
      "3.1622776601683795\n",
      "Salon825 : 0.4721359549995794\n",
      "혜원 : 0.2402530733520421\n",
      "지연 : 0.2402530733520421\n"
     ]
    }
   ],
   "source": [
    "critics={'Salon825':{'더파티':5, '말모이':4, '존잼탱':1.5},\n",
    "    '유정':{'말모이':5, '존잼탱':2},\n",
    "    '혜원':{'더파티':2.5, '말모이':2, '존잼탱':1},\n",
    "    '지연':{'더파티':3.5, '말모이':4, '존잼탱':5}}\n",
    "print(critics['Salon825'])\n",
    "print(critics.get('성은'))\n",
    "print(critics.get('혜원').get('말모이'))\n",
    "   \n",
    "from math import sqrt\n",
    "sqrt(pow(1,2)+pow(3,2))\n",
    "\n",
    "def sim(i,j):\n",
    "    return sqrt(pow(i,2)+pow(j,2))\n",
    "\n",
    "var1=critics['유정']['말모이']-critics['혜원']['말모이']\n",
    "var2=critics['유정']['존잼탱']-critics['혜원']['존잼탱']\n",
    "print(sim(var1,var2))\n",
    "#알고싶은거: 유정은 더파티 평점 얼마 줄까\n",
    "\n",
    "for i in critics:\n",
    "    if i!='유정':\n",
    "        var1=critics['유정']['말모이']-critics[i]['말모이']\n",
    "        var2=critics['유정']['존잼탱']-critics[i]['존잼탱']\n",
    "#         print(i,\":\",sim(var1,var2))\n",
    "        print(i,\":\",1/(1+sim(var1,var2))) #Salon825와 제일 가깝\n",
    "        "
   ]
  },
  {
   "cell_type": "code",
   "execution_count": 46,
   "metadata": {},
   "outputs": [
    {
     "name": "stdout",
     "output_type": "stream",
     "text": [
      "0.3405424265831667\n"
     ]
    }
   ],
   "source": [
    "critics={\n",
    "    '혜원': {\n",
    "        '택시운전사': 2.5,\n",
    "        '겨울왕국': 3.5,\n",
    "        '리빙라스베가스': 3.0,\n",
    "        '넘버3': 3.5,\n",
    "        '사랑과전쟁': 2.5,\n",
    "        '세계대전': 3.0,\n",
    "    },\n",
    "    'Salon825': {\n",
    "        '택시운전사': 1.0,\n",
    "        '겨울왕국': 4.5,\n",
    "        '리빙라스베가스': 0.5,\n",
    "        '넘버3': 1.5,\n",
    "        '사랑과전쟁': 4.5,\n",
    "        '세계대전': 5.0,\n",
    "    },\n",
    "    '강감찬': {\n",
    "        '택시운전사': 3.0,\n",
    "        '겨울왕국': 3.5,\n",
    "        '리빙라스베가스': 1.5,\n",
    "        '넘버3': 5.0,\n",
    "        '세계대전': 3.0,\n",
    "        '사랑과전쟁': 3.5,\n",
    "    },\n",
    "    '을지문덕': {\n",
    "        '택시운전사': 2.5,\n",
    "        '겨울왕국': 3.0,\n",
    "        '넘버3': 3.5,\n",
    "        '세계대전': 4.0,\n",
    "    },\n",
    "    '김유신': {\n",
    "        '겨울왕국': 3.5,\n",
    "        '리빙라스베가스': 3.0,\n",
    "        '세계대전': 4.5,\n",
    "        '넘버3': 4.0,\n",
    "        '사랑과전쟁': 2.5,\n",
    "    },\n",
    "    '유성룡': {\n",
    "        '택시운전사': 3.0,\n",
    "        '겨울왕국': 4.0,\n",
    "        '리빙라스베가스': 2.0,\n",
    "        '넘버3': 3.0,\n",
    "        '세계대전': 3.5,\n",
    "        '사랑과전쟁': 2.0,\n",
    "    },\n",
    "    '이황': {\n",
    "        '택시운전사': 3.0,\n",
    "        '겨울왕국': 4.0,\n",
    "        '세계대전': 3.0,\n",
    "        '넘버3': 5.0,\n",
    "        '사랑과전쟁': 3.5,\n",
    "    },\n",
    "    '이이': {'겨울왕국': 4.5, '사랑과전쟁': 1.0,\n",
    "             '넘버3': 4.0}\n",
    "        }\n",
    "\n",
    "def sim_distance(data, name1, name2):\n",
    "    sum=0\n",
    "    for i in data[name1]:\n",
    "        if i in data[name2]:\n",
    "            sum+=pow(data[name1][i]-data[name2][i],2) \n",
    "    return 1/(1+sqrt(sum)) #값이 클수록 유사하다(유클리디안 거리 작음)\n",
    "print(sim_distance(critics, '을지문덕','강감찬'))\n",
    "#두 사람이 공통으로 본 영화의 평점 거리 계산(유클리디안)\n"
   ]
  },
  {
   "cell_type": "markdown",
   "metadata": {},
   "source": [
    "knn or regression"
   ]
  },
  {
   "cell_type": "code",
   "execution_count": 48,
   "metadata": {},
   "outputs": [
    {
     "ename": "TypeError",
     "evalue": "'int' object is not callable",
     "output_type": "error",
     "traceback": [
      "\u001b[1;31m---------------------------------------------------------------------------\u001b[0m",
      "\u001b[1;31mTypeError\u001b[0m                                 Traceback (most recent call last)",
      "\u001b[1;32m<ipython-input-48-eb8d71928fde>\u001b[0m in \u001b[0;36m<module>\u001b[1;34m()\u001b[0m\n\u001b[0;32m     10\u001b[0m     \u001b[0mres\u001b[0m\u001b[1;33m.\u001b[0m\u001b[0mreverse\u001b[0m\u001b[1;33m(\u001b[0m\u001b[1;33m)\u001b[0m \u001b[1;31m#내림차순\u001b[0m\u001b[1;33m\u001b[0m\u001b[0m\n\u001b[0;32m     11\u001b[0m     \u001b[0mprint\u001b[0m\u001b[1;33m(\u001b[0m\u001b[0mres\u001b[0m\u001b[1;33m[\u001b[0m\u001b[1;33m:\u001b[0m\u001b[0mindex\u001b[0m\u001b[1;33m]\u001b[0m\u001b[1;33m)\u001b[0m\u001b[1;33m\u001b[0m\u001b[0m\n\u001b[1;32m---> 12\u001b[1;33m \u001b[0mprint\u001b[0m\u001b[1;33m(\u001b[0m\u001b[0mtop_match\u001b[0m\u001b[1;33m(\u001b[0m\u001b[0mcritics\u001b[0m\u001b[1;33m,\u001b[0m\u001b[1;34m'을지문덕'\u001b[0m\u001b[1;33m,\u001b[0m\u001b[1;34m'강감찬'\u001b[0m\u001b[1;33m,\u001b[0m\u001b[1;36m5\u001b[0m\u001b[1;33m)\u001b[0m\u001b[1;33m)\u001b[0m\u001b[1;33m\u001b[0m\u001b[0m\n\u001b[0m",
      "\u001b[1;32m<ipython-input-48-eb8d71928fde>\u001b[0m in \u001b[0;36mtop_match\u001b[1;34m(data, name, index, sim_function)\u001b[0m\n\u001b[0;32m      3\u001b[0m     \u001b[1;32mfor\u001b[0m \u001b[0mi\u001b[0m \u001b[1;32min\u001b[0m \u001b[0mdata\u001b[0m\u001b[1;33m:\u001b[0m\u001b[1;33m\u001b[0m\u001b[0m\n\u001b[0;32m      4\u001b[0m         \u001b[1;32mif\u001b[0m \u001b[0mname\u001b[0m\u001b[1;33m!=\u001b[0m\u001b[0mi\u001b[0m\u001b[1;33m:\u001b[0m\u001b[1;33m\u001b[0m\u001b[0m\n\u001b[1;32m----> 5\u001b[1;33m             \u001b[0mres\u001b[0m\u001b[1;33m.\u001b[0m\u001b[0mappend\u001b[0m\u001b[1;33m(\u001b[0m\u001b[1;33m(\u001b[0m\u001b[0msim_function\u001b[0m\u001b[1;33m(\u001b[0m\u001b[0mdata\u001b[0m\u001b[1;33m,\u001b[0m\u001b[0mname\u001b[0m\u001b[1;33m,\u001b[0m\u001b[0mi\u001b[0m\u001b[1;33m)\u001b[0m\u001b[1;33m,\u001b[0m\u001b[0mi\u001b[0m\u001b[1;33m)\u001b[0m\u001b[1;33m)\u001b[0m \u001b[1;31m#튜플구조\u001b[0m\u001b[1;33m\u001b[0m\u001b[0m\n\u001b[0m\u001b[0;32m      6\u001b[0m             \u001b[1;31m#print(name,\"과\",i,\"와의 유사도: \"sim_function(data,name,i))#혜원(조용필)과 을지문덕 간 유사도\u001b[0m\u001b[1;33m\u001b[0m\u001b[1;33m\u001b[0m\u001b[0m\n\u001b[0;32m      7\u001b[0m     \u001b[0mprint\u001b[0m\u001b[1;33m(\u001b[0m\u001b[0mres\u001b[0m\u001b[1;33m)\u001b[0m\u001b[1;33m\u001b[0m\u001b[0m\n",
      "\u001b[1;31mTypeError\u001b[0m: 'int' object is not callable"
     ]
    }
   ],
   "source": [
    "def top_match(data, name, index=3, sim_function=sim_distance):\n",
    "    res=[]\n",
    "    for i in data:\n",
    "        if name!=i:\n",
    "            res.append((sim_function(data,name,i),i)) #튜플구조\n",
    "            #print(name,\"과\",i,\"와의 유사도: \"sim_function(data,name,i))#혜원(조용필)과 을지문덕 간 유사도\n",
    "    print(res)\n",
    "    res.sort() #올림차순\n",
    "    print(res) \n",
    "    res.reverse() #내림차순\n",
    "    print(res[:index])    \n",
    "print(top_match(critics,'을지문덕','강감찬',5))"
   ]
  },
  {
   "cell_type": "code",
   "execution_count": null,
   "metadata": {},
   "outputs": [],
   "source": []
  }
 ],
 "metadata": {
  "kernelspec": {
   "display_name": "Python 3",
   "language": "python",
   "name": "python3"
  },
  "language_info": {
   "codemirror_mode": {
    "name": "ipython",
    "version": 3
   },
   "file_extension": ".py",
   "mimetype": "text/x-python",
   "name": "python",
   "nbconvert_exporter": "python",
   "pygments_lexer": "ipython3",
   "version": "3.6.5"
  }
 },
 "nbformat": 4,
 "nbformat_minor": 2
}
