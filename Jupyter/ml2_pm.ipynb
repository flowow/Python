{
 "cells": [
  {
   "cell_type": "code",
   "execution_count": 4,
   "metadata": {},
   "outputs": [
    {
     "data": {
      "text/plain": [
       "array([[1., 0., 0., 0., 0., 0., 0.],\n",
       "       [0., 1., 0., 0., 0., 0., 0.],\n",
       "       [0., 0., 1., 0., 0., 0., 0.],\n",
       "       [0., 0., 0., 1., 0., 0., 0.],\n",
       "       [0., 0., 0., 0., 1., 0., 0.],\n",
       "       [0., 0., 0., 0., 0., 1., 0.],\n",
       "       [0., 0., 0., 0., 0., 0., 1.]])"
      ]
     },
     "execution_count": 4,
     "metadata": {},
     "output_type": "execute_result"
    }
   ],
   "source": [
    "import numpy as np\n",
    "np.diag([1,2,3])\n",
    "np.identity(7)\n",
    "# np.eye(4)"
   ]
  },
  {
   "cell_type": "code",
   "execution_count": 5,
   "metadata": {},
   "outputs": [
    {
     "data": {
      "text/plain": [
       "array([10, 12, 14, 16, 18])"
      ]
     },
     "execution_count": 5,
     "metadata": {},
     "output_type": "execute_result"
    }
   ],
   "source": [
    "#행렬과 벡터 연산\n",
    "x=np.array([10,11,12,13,14])\n",
    "y=np.array([0,1,2,3,4])\n",
    "x+y"
   ]
  },
  {
   "cell_type": "code",
   "execution_count": 9,
   "metadata": {},
   "outputs": [
    {
     "data": {
      "text/plain": [
       "32"
      ]
     },
     "execution_count": 9,
     "metadata": {},
     "output_type": "execute_result"
    }
   ],
   "source": [
    "x=np.array([1,2,3]) #1차원 배열\n",
    "y=np.array([4,5,6]) \n",
    "np.dot(x,y) \n",
    "# 1차원 배열끼리의 내적, 앞의 벡터(x): 행벡터, 뒤의 벡터(y):열벡터"
   ]
  },
  {
   "cell_type": "code",
   "execution_count": 7,
   "metadata": {},
   "outputs": [
    {
     "data": {
      "text/plain": [
       "array([[32]])"
      ]
     },
     "execution_count": 7,
     "metadata": {},
     "output_type": "execute_result"
    }
   ],
   "source": [
    "x=np.array([[1],[2],[3]]) #2차원 배열\n",
    "y=np.array([[4],[5],[6]]) \n",
    "np.dot(x.T,y) #내적함수: np.dot()"
   ]
  },
  {
   "cell_type": "markdown",
   "metadata": {},
   "source": [
    "가중치 합 계산 <=> 벡터의 내적"
   ]
  },
  {
   "cell_type": "code",
   "execution_count": 40,
   "metadata": {},
   "outputs": [
    {
     "data": {
      "image/png": "[encoded data removed]",
      "text/plain": [
       "<Figure size 648x648 with 8 Axes>"
      ]
     },
     "metadata": {},
     "output_type": "display_data"
    }
   ],
   "source": [
    "from sklearn.datasets import load_digits\n",
    "import matplotlib.pyplot as plt\n",
    "import matplotlib.gridspec as gridspec\n",
    "digits=load_digits()\n",
    "d1=digits.images[0]\n",
    "d2=digits.images[10]\n",
    "d3=digits.images[1]\n",
    "d4=digits.images[11]\n",
    "v1=d1.reshape(64,1) #열벡터\n",
    "v2=d2.reshape(64,1)\n",
    "v3=d3.reshape(64,1)\n",
    "v4=d4.reshape(64,1)\n",
    "plt.figure(figsize=(9,9))\n",
    "gs=gridspec.GridSpec(1,8, height_ratios=[1],width_ratios=[9,1,9,1,9,1,9,1])\n",
    "for i in range(4):\n",
    "    plt.subplot(gs[2*i])\n",
    "    plt.imshow(eval(\"d\"+str(i+1)),aspect=1, interpolation='nearest', \n",
    "               cmap=plt.cm.bone_r) #수치데이터를 이미지로 보여주는 함수, 우\n",
    "    #plt.cm +space누르면 가능한 옵션 나옴 bone_r가 일반적\n",
    "for i in range(4):\n",
    "    plt.subplot(gs[2*i+1])\n",
    "    plt.imshow(eval(\"v\"+str(i+1)),aspect=0.3, interpolation='nearest', \n",
    "               cmap=plt.cm.bone_r)\n",
    "plt.tight_layout()\n",
    "plt.show()"
   ]
  },
  {
   "cell_type": "markdown",
   "metadata": {},
   "source": [
    "<비슷한 패턴을 가진 이미지 판별>\n",
    "-유사도를 구하기 위해(내적하기 위해)\n",
    "-이미지(8x8) 4개뿐만 아니라 (64x1) 4개도 추가로 만든 이유? "
   ]
  },
  {
   "cell_type": "code",
   "execution_count": 41,
   "metadata": {},
   "outputs": [
    {
     "data": {
      "text/plain": [
       "array([3064.])"
      ]
     },
     "execution_count": 41,
     "metadata": {},
     "output_type": "execute_result"
    }
   ],
   "source": [
    "np.dot(v1.T,v2)[0] #result: 3064:내적값을 의미"
   ]
  },
  {
   "cell_type": "code",
   "execution_count": 42,
   "metadata": {},
   "outputs": [
    {
     "data": {
      "text/plain": [
       "3661.0"
      ]
     },
     "execution_count": 42,
     "metadata": {},
     "output_type": "execute_result"
    }
   ],
   "source": [
    "np.dot(v1.T,v2)[0][0] #값만 추출하고 싶어서\n",
    "np.dot(v3.T,v4)[0][0]"
   ]
  },
  {
   "cell_type": "code",
   "execution_count": 43,
   "metadata": {},
   "outputs": [
    {
     "data": {
      "text/plain": [
       "1866.0"
      ]
     },
     "execution_count": 43,
     "metadata": {},
     "output_type": "execute_result"
    }
   ],
   "source": [
    "np.dot(v1.T,v3)[0][0] #0과 1사이의 내적"
   ]
  },
  {
   "cell_type": "code",
   "execution_count": 44,
   "metadata": {},
   "outputs": [
    {
     "data": {
      "text/plain": [
       "1883.0"
      ]
     },
     "execution_count": 44,
     "metadata": {},
     "output_type": "execute_result"
    }
   ],
   "source": [
    "np.dot(v1.T,v4)[0][0]"
   ]
  },
  {
   "cell_type": "code",
   "execution_count": 45,
   "metadata": {},
   "outputs": [
    {
     "name": "stdout",
     "output_type": "stream",
     "text": [
      "2421.0\n",
      "2479.0\n"
     ]
    }
   ],
   "source": [
    "print(np.dot(v2.T,v3)[0][0])\n",
    "print(np.dot(v2.T,v4)[0][0])\n",
    "#같은 문자와의 유사도값보다 훨씩 작다!@!@!@!@!넘신기해\n",
    "#한계는 1.이미지가 비슷해야함 2. 컬러사진인 경우 복잡도가 크다"
   ]
  },
  {
   "cell_type": "code",
   "execution_count": 46,
   "metadata": {},
   "outputs": [
    {
     "data": {
      "text/plain": [
       "array([[22, 28],\n",
       "       [49, 64]])"
      ]
     },
     "execution_count": 46,
     "metadata": {},
     "output_type": "execute_result"
    }
   ],
   "source": [
    "A=np.array([[1,2,3],[4,5,6]])\n",
    "B=np.array([[1,2],[3,4],[5,6]])\n",
    "C=np.dot(A,B)\n",
    "C"
   ]
  },
  {
   "cell_type": "code",
   "execution_count": null,
   "metadata": {},
   "outputs": [],
   "source": []
  }
 ],
 "metadata": {
  "kernelspec": {
   "display_name": "Python 3",
   "language": "python",
   "name": "python3"
  },
  "language_info": {
   "codemirror_mode": {
    "name": "ipython",
    "version": 3
   },
   "file_extension": ".py",
   "mimetype": "text/x-python",
   "name": "python",
   "nbconvert_exporter": "python",
   "pygments_lexer": "ipython3",
   "version": "3.6.5"
  }
 },
 "nbformat": 4,
 "nbformat_minor": 2
}
