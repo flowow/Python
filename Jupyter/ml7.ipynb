{
 "cells": [
  {
   "cell_type": "code",
   "execution_count": 1,
   "metadata": {},
   "outputs": [
    {
     "name": "stderr",
     "output_type": "stream",
     "text": [
      "C:\\Users\\user\\anac\\lib\\site-packages\\h5py\\__init__.py:36: FutureWarning: Conversion of the second argument of issubdtype from `float` to `np.floating` is deprecated. In future, it will be treated as `np.float64 == np.dtype(float).type`.\n",
      "  from ._conv import register_converters as _register_converters\n"
     ]
    }
   ],
   "source": [
    "import tensorflow as tf\n",
    "import numpy as np"
   ]
  },
  {
   "cell_type": "code",
   "execution_count": 25,
   "metadata": {
    "scrolled": true
   },
   "outputs": [
    {
     "name": "stdout",
     "output_type": "stream",
     "text": [
      "(101, 17)\n",
      "(101, 16)\n",
      "reshape: Tensor(\"one_hot_3:0\", shape=(?, 1, 7), dtype=float32)\n",
      "reshape: Tensor(\"Reshape_2:0\", shape=(?, 7), dtype=float32)\n"
     ]
    }
   ],
   "source": [
    "xy=np.loadtxt('data/data-04-zoo.csv',delimiter=',', dtype=np.float32)\n",
    "print(xy.shape)\n",
    "xdata=xy[ :, 0:-1]\n",
    "print(xdata.shape)\n",
    "ydata=xy[ :, [-1]]\n",
    "# print(ydata.shape)\n",
    "nb_classes=7 #0~6을 \n",
    "x=tf.placeholder(tf.float32,[None,16])\n",
    "y=tf.placeholder(tf.int32,[None,1])#onehot 인코딩하려고 int32로! \n",
    "#0~6(y) -> 7가지 종류로 원핫 인코딩 ex 2->0010000, 5->0000010\n",
    "\n",
    "y_one_hot=tf.one_hot(y,nb_classes) \n",
    "#원핫 인코딩시 차원이 1만큼 증가 ex)y [None,1] -> [None,1,7]\n",
    "#[[1],[4]]:[None,1]\n",
    "#[[[0100000],[0000100]]]: [None,1,7]\n",
    "print(\"reshape:\",y_one_hot)\n",
    "y_one_hot=tf.reshape(y_one_hot,[-1,nb_classes])\n",
    "print(\"reshape:\",y_one_hot)\n",
    "w=tf.Variable(tf.random_normal([16,nb_classes]))\n",
    "b=tf.Variable(tf.random_normal([nb_classes]))\n",
    "#softmax\n",
    "\n",
    "lgt=tf.matmul(x,w)+b\n",
    "hf=tf.nn.softmax(lgt) #합이 1인 7개의 숫자\n",
    "\n",
    "#logits:우리의 예측, labels:정답\n",
    "#예시(정답이 3인 경우에 대한 예측)\n",
    "#logits=[0.1 0.1 0.1 0.5 0.01 0.1 0.9]\n",
    "#labels=[0 0 0 1 0 0 0]\n"
   ]
  },
  {
   "cell_type": "code",
   "execution_count": 29,
   "metadata": {},
   "outputs": [
    {
     "name": "stdout",
     "output_type": "stream",
     "text": [
      "8.398026\n",
      "step:0\t cost:8.398\t acc:11.88%\t\n",
      "0.82448524\n",
      "step:100\t cost:0.824\t acc:75.25%\t\n",
      "0.5564045\n",
      "step:200\t cost:0.556\t acc:86.14%\t\n",
      "0.4210471\n",
      "step:300\t cost:0.421\t acc:88.12%\t\n",
      "0.3340652\n",
      "step:400\t cost:0.334\t acc:90.10%\t\n",
      "0.27290204\n",
      "step:500\t cost:0.273\t acc:90.10%\t\n",
      "0.2277813\n",
      "step:600\t cost:0.228\t acc:94.06%\t\n",
      "0.1936033\n",
      "step:700\t cost:0.194\t acc:94.06%\t\n",
      "0.1672692\n",
      "step:800\t cost:0.167\t acc:95.05%\t\n",
      "0.14667907\n",
      "step:900\t cost:0.147\t acc:98.02%\t\n",
      "0.13033587\n",
      "step:1000\t cost:0.130\t acc:98.02%\t\n",
      "0.117157854\n",
      "step:1100\t cost:0.117\t acc:98.02%\t\n",
      "0.10636346\n",
      "step:1200\t cost:0.106\t acc:99.01%\t\n",
      "0.0973875\n",
      "step:1300\t cost:0.097\t acc:100.00%\t\n",
      "0.08981952\n",
      "step:1400\t cost:0.090\t acc:100.00%\t\n",
      "0.083358176\n",
      "step:1500\t cost:0.083\t acc:100.00%\t\n",
      "0.07777978\n",
      "step:1600\t cost:0.078\t acc:100.00%\t\n",
      "0.07291563\n",
      "step:1700\t cost:0.073\t acc:100.00%\t\n",
      "0.06863689\n",
      "step:1800\t cost:0.069\t acc:100.00%\t\n",
      "0.06484365\n",
      "step:1900\t cost:0.065\t acc:100.00%\t\n",
      "0.061457366\n",
      "step:2000\t cost:0.061\t acc:100.00%\t\n",
      "[3 3]\n",
      "뱀으로 예측됨\n"
     ]
    }
   ],
   "source": [
    "cost=tf.reduce_mean(tf.nn.softmax_cross_entropy_with_logits(logits=lgt,labels=y_one_hot))\n",
    "optimizer=tf.train.GradientDescentOptimizer(0.1).minimize(cost)\n",
    "prediction= tf.argmax(hf,1) #0~6\n",
    "\n",
    "correct_prediction=tf.equal(prediction, tf.argmax(y_one_hot,1))\n",
    "accuracy=tf.reduce_mean(tf.cast(correct_prediction,tf.float32))\n",
    "############그래프 정의###############\n",
    "\n",
    "with tf.Session() as sess:\n",
    "    sess.run(tf.global_variables_initializer())\n",
    "    for step in range(2001):\n",
    "        sess.run(optimizer,feed_dict={x:xdata, y:ydata})\n",
    "        if step%100==0:\n",
    "            cv, acc=sess.run([cost,accuracy], feed_dict={x:xdata, y:ydata})\n",
    "            print(cv)\n",
    "            print(\"step:{}\\t cost:{:.3f}\\t acc:{:.2%}\\t\".format(step,cv,acc))\n",
    "    res=sess.run(prediction,feed_dict={x:[[0,0,1,0,0,1,1,1,1,0,0,1,0,1,0,0],\n",
    "                                         [0,0,1,0,0,1,0,1,0,1,0,1,1,1,1,0]]}) #\n",
    "    print(res)\n",
    "    if res[0]==3:\n",
    "        print(\"뱀으로 예측됨\")"
   ]
  },
  {
   "cell_type": "code",
   "execution_count": null,
   "metadata": {},
   "outputs": [],
   "source": []
  }
 ],
 "metadata": {
  "kernelspec": {
   "display_name": "Python 3",
   "language": "python",
   "name": "python3"
  },
  "language_info": {
   "codemirror_mode": {
    "name": "ipython",
    "version": 3
   },
   "file_extension": ".py",
   "mimetype": "text/x-python",
   "name": "python",
   "nbconvert_exporter": "python",
   "pygments_lexer": "ipython3",
   "version": "3.6.5"
  }
 },
 "nbformat": 4,
 "nbformat_minor": 2
}
