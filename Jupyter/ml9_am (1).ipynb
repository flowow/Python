{
 "cells": [
  {
   "cell_type": "code",
   "execution_count": 13,
   "metadata": {},
   "outputs": [
    {
     "name": "stdout",
     "output_type": "stream",
     "text": [
      "(0, 0)--->0\n",
      "(1, 0)--->1\n",
      "(0, 1)--->1\n",
      "(1, 1)--->0\n"
     ]
    }
   ],
   "source": [
    "import numpy as np\n",
    "def XOR(x1,x2):   \n",
    "    s1=NAND(x1,x2)\n",
    "    s2=OR(x1,x2)\n",
    "    y=AND(s1,s2)\n",
    "    return y\n",
    "    \n",
    "def NAND(x1,x2) :\n",
    "    x=np.array([x1,x2])\n",
    "    w=np.array([[-0.5,-0.5]])\n",
    "    b=0.7\n",
    "    tmp=np.sum(w*x)+b          \n",
    "    if tmp<=0:                  \n",
    "        return 0\n",
    "    else:\n",
    "        return 1\n",
    "\n",
    "def AND(x1,x2) :\n",
    "    x=np.array([x1,x2])\n",
    "    w=np.array([[0.5,0.5]])\n",
    "    b=-0.7\n",
    "    tmp=np.sum(w*x)+b          \n",
    "    if tmp<=0:                  # 함수 모두 더한 값이 0보다 작으면 0, 크면 1\n",
    "        return 0\n",
    "    else:\n",
    "        return 1\n",
    "\n",
    "def OR(x1,x2) :\n",
    "    x=np.array([x1,x2])\n",
    "    w=np.array([[0.5,0.5]])\n",
    "    b=-0.2\n",
    "    tmp=np.sum(w*x)+b        #단일 perceptron\n",
    "    if tmp<=0:\n",
    "        return 0\n",
    "    else:\n",
    "        return 1\n",
    "    \n",
    "for xs in [(0,0),(1,0),(0,1),(1,1)]:\n",
    "    y=XOR(xs[0],xs[1])\n",
    "    print(str(xs)+\"--->\"+str(y))"
   ]
  },
  {
   "cell_type": "code",
   "execution_count": 34,
   "metadata": {},
   "outputs": [
    {
     "name": "stdout",
     "output_type": "stream",
     "text": [
      "10 1.133183\n",
      "20 1.1220527\n",
      "30 1.1129335\n",
      "40 1.1051555\n",
      "50 1.0986123\n",
      "60 1.0986123\n",
      "70 1.0986123\n",
      "80 1.0986123\n",
      "90 1.0986123\n",
      "100 1.0986123\n",
      "예측값: [0 0 0 0 0 0]\n",
      "실제값: [0 1 2 0 0 2]\n",
      "정확도:50.00\n"
     ]
    }
   ],
   "source": [
    "\n",
    "import tensorflow as tf\n",
    "import numpy as np\n",
    "#동물 분류기\n",
    "xdata=np.array([[0,1],[1,0],[1,1],[0,0],[0,0],[0,1]])                # [털,날개]\n",
    "ydata=np.array([[1,0,0],[0,1,0],[0,0,1],[1,0,0],[1,0,0],[0,0,1]])    # [기타,포유류,조류]\n",
    "x=tf.placeholder(tf.float32)             # 후에 feed\n",
    "y=tf.placeholder(tf.float32)             # 후에 feed\n",
    "w=tf.Variable(tf.random_uniform([2,3],-1.,1.))\n",
    "b=tf.Variable(tf.zeros([3]))       \n",
    "L=tf.add(tf.matmul(x,w),b)\n",
    "L=tf.nn.relu(L)#L<=0 ->0, L>0 -> L\n",
    "model=tf.nn.softmax(L)            # 여기서 확률로 변환\n",
    "cost=tf.reduce_mean(-tf.reduce_sum(y*tf.log(model),axis=1))\n",
    "optimizer=tf.train.GradientDescentOptimizer(0.1)\n",
    "train=optimizer.minimize(cost)\n",
    "init=tf.global_variables_initializer()\n",
    "sess=tf.Session()\n",
    "sess.run(init)\n",
    "\n",
    "for step in range(100):\n",
    "    sess.run(train, feed_dict={x:xdata, y:ydata})\n",
    "    if(step+1)%10==0:\n",
    "        print(step+1,sess.run(cost,feed_dict={x:xdata, y:ydata}))\n",
    "        #[0.7 0.2 0.1] argmax -> 0\n",
    "prediction=tf.argmax(model,axis=1)     # 값이 가장 큰 자리의 인덱스 출력\n",
    "target=tf.argmax(y,axis=1)       #[1 0 0]->argmax->0\n",
    "print(\"예측값:\",sess.run(prediction, feed_dict={x:xdata}))\n",
    "print(\"실제값:\",sess.run(target, feed_dict={y:ydata}))\n",
    "is_correct=tf.equal(prediction, target)\n",
    "accuracy=tf.reduce_mean(tf.cast(is_correct,tf.float32))\n",
    "print(\"정확도:%.2f\" % sess.run(accuracy*100, feed_dict={x:xdata,y:ydata}))\n",
    "\n"
   ]
  },
  {
   "cell_type": "code",
   "execution_count": 40,
   "metadata": {},
   "outputs": [
    {
     "name": "stdout",
     "output_type": "stream",
     "text": [
      "10 0.4508958\n",
      "20 0.26622662\n",
      "30 0.2425534\n",
      "40 0.23743154\n",
      "50 0.2355981\n",
      "60 0.23472266\n",
      "70 0.23422457\n",
      "80 0.23387498\n",
      "90 0.23359829\n",
      "100 0.23336922\n",
      "예측값: [2 1 2 0 0 2]\n",
      "실제값: [0 1 2 0 0 2]\n",
      "정확도:83.33\n"
     ]
    }
   ],
   "source": [
    "import tensorflow as tf\n",
    "import numpy as np\n",
    "#동물 분류기\n",
    "xdata=np.array([[0,1],[1,0],[1,1],[0,0],[0,0],[0,1]])                # [털,날개]\n",
    "ydata=np.array([[1,0,0],[0,1,0],[0,0,1],[1,0,0],[1,0,0],[0,0,1]])    # [기타,포유류,조류]\n",
    "x=tf.placeholder(tf.float32)             # 후에 feed\n",
    "y=tf.placeholder(tf.float32)             # 후에 feed\n",
    "w1=tf.Variable(tf.random_uniform([2,10],-1.,1.))\n",
    "w2=tf.Variable(tf.random_uniform([10,3],-1.,1.))\n",
    "b1=tf.Variable(tf.zeros([10]))\n",
    "b2=tf.Variable(tf.zeros([3]))\n",
    "\n",
    "L1=tf.add(tf.matmul(x,w1),b1)\n",
    "L1=tf.nn.relu(L1)    # L이 0보다 작으면 0, 0보다 크면 L\n",
    "# (6,3) =         ((6,10),(10,3)),(3)\n",
    "model=tf.add(tf.matmul(L1,w2),b2)\n",
    "\n",
    "cost=tf.reduce_mean(tf.nn.softmax_cross_entropy_with_logits(labels=y,logits=model))\n",
    "optimizer=tf.train.AdamOptimizer(0.1)\n",
    "train=optimizer.minimize(cost)\n",
    "init=tf.global_variables_initializer()\n",
    "sess=tf.Session()\n",
    "sess.run(init)\n",
    "\n",
    "for step in range(100):\n",
    "    sess.run(train, feed_dict={x:xdata, y:ydata})\n",
    "    if(step+1)%10==0:\n",
    "        print(step+1,sess.run(cost,feed_dict={x:xdata, y:ydata}))\n",
    "        #[0.7 0.2 0.1] argmax -> 0\n",
    "prediction=tf.argmax(model,axis=1)     # 값이 가장 큰 자리의 인덱스 출력\n",
    "target=tf.argmax(y,axis=1)       #[1 0 0]->argmax->0\n",
    "print(\"예측값:\",sess.run(prediction, feed_dict={x:xdata}))\n",
    "print(\"실제값:\",sess.run(target, feed_dict={y:ydata}))\n",
    "is_correct=tf.equal(prediction, target)\n",
    "accuracy=tf.reduce_mean(tf.cast(is_correct,tf.float32))\n",
    "print(\"정확도:%.2f\" % sess.run(accuracy*100, feed_dict={x:xdata,y:ydata}))"
   ]
  },
  {
   "cell_type": "code",
   "execution_count": null,
   "metadata": {},
   "outputs": [],
   "source": []
  }
 ],
 "metadata": {
  "kernelspec": {
   "display_name": "Python 3",
   "language": "python",
   "name": "python3"
  },
  "language_info": {
   "codemirror_mode": {
    "name": "ipython",
    "version": 3
   },
   "file_extension": ".py",
   "mimetype": "text/x-python",
   "name": "python",
   "nbconvert_exporter": "python",
   "pygments_lexer": "ipython3",
   "version": "3.6.5"
  }
 },
 "nbformat": 4,
 "nbformat_minor": 2
}
