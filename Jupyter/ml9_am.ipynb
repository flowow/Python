{
 "cells": [
  {
   "cell_type": "code",
   "execution_count": 6,
   "metadata": {},
   "outputs": [
    {
     "name": "stdout",
     "output_type": "stream",
     "text": [
      "(0, 0)--->0\n",
      "(1, 0)--->1\n",
      "(0, 1)--->1\n",
      "(1, 1)--->0\n"
     ]
    }
   ],
   "source": [
    "import numpy as np\n",
    "def XOR(x1,x2):\n",
    "    s1=NAND(x1,x2)\n",
    "    s2=OR(x1,x2)\n",
    "    y=AND(s1,s2)\n",
    "    return y    \n",
    "\n",
    "def NAND(x1,x2):\n",
    "    x=np.array([x1,x2])\n",
    "    w=np.array([-0.5, -0.5])\n",
    "    b=0.7    \n",
    "    tmp=np.sum(w*x)+b\n",
    "    if tmp<=0:\n",
    "        return 0\n",
    "    else:\n",
    "        return 1 \n",
    "def AND(x1,x2):\n",
    "    x=np.array([x1,x2])\n",
    "    w=np.array([0.5, 0.5])\n",
    "    b=-0.7    \n",
    "    tmp=np.sum(w*x)+b\n",
    "    if tmp<=0:\n",
    "        return 0\n",
    "    else:\n",
    "        return 1 \n",
    "def OR(x1,x2):\n",
    "    x=np.array([x1,x2])\n",
    "    w=np.array([0.5, 0.5])\n",
    "    b=-0.2\n",
    "    tmp=np.sum(w*x)+b\n",
    "    if tmp<=0:\n",
    "        return 0\n",
    "    else:\n",
    "        return 1 \n",
    "for xs in [(0,0),(1,0),(0,1),(1,1)]:\n",
    "    y=XOR(xs[0],xs[1])\n",
    "    print(str(xs)+ \"--->\"+str(y))\n",
    "    \n",
    "    \n",
    "    \n",
    "    \n",
    "    \n",
    "    \n",
    "    \n",
    "    \n",
    "    "
   ]
  },
  {
   "cell_type": "code",
   "execution_count": 14,
   "metadata": {},
   "outputs": [
    {
     "name": "stdout",
     "output_type": "stream",
     "text": [
      "10 1.1468161\n",
      "20 1.1339332\n",
      "30 1.1230235\n",
      "40 1.1137595\n",
      "50 1.1058615\n",
      "60 1.0990953\n",
      "70 1.0986123\n",
      "80 1.0986123\n",
      "90 1.0986123\n",
      "100 1.0986123\n",
      "예측값: [0 0 0 0 0 0]\n",
      "실제값: [0 1 2 0 0 2]\n",
      "정확도:50.00\n"
     ]
    }
   ],
   "source": [
    "import tensorflow as tf\n",
    "import numpy as np\n",
    "# 동물분류기:  [털,날개]\n",
    "xdata=np.array([[0,0],[1,0],[1,1],\n",
    "               [0,0],[0,0],[0,1]])\n",
    "ydata=np.array([[1,0,0],#기타\n",
    "                [0,1,0],#포유류\n",
    "                [0,0,1],#조류\n",
    "                [1,0,0],\n",
    "                [1,0,0],\n",
    "                [0,0,1]])\n",
    "x=tf.placeholder(tf.float32)\n",
    "y=tf.placeholder(tf.float32)\n",
    "w=tf.Variable(tf.random_uniform([2,3], -1.,1.))\n",
    "b=tf.Variable(tf.zeros([3]))\n",
    "L=tf.add(tf.matmul(x,w),b)\n",
    "L=tf.nn.relu(L)#L<=0 ->0, L>0 -> L\n",
    "model=tf.nn.softmax(L)\n",
    "cost=tf.reduce_mean(-tf.reduce_sum(y*tf.log(model),axis=1))\n",
    "optimizer=tf.train.GradientDescentOptimizer(0.1)\n",
    "train=optimizer.minimize(cost)\n",
    "init=tf.global_variables_initializer()\n",
    "sess=tf.Session()\n",
    "sess.run(init)\n",
    "for step in range(100):\n",
    "    sess.run(train, feed_dict={x:xdata, y:ydata})\n",
    "    if(step+1)%10==0:\n",
    "        print(step+1,sess.run(cost,feed_dict=\n",
    "                              {x:xdata, y:ydata}))\n",
    "        #[0.7 0.2 0.1]->argmax->0\n",
    "prediction=tf.argmax(model, axis=1)\n",
    "        #[1 0 0]->argmax->0\n",
    "target=tf.argmax(y,axis=1)\n",
    "print(\"예측값:\",sess.run(prediction, feed_dict={x:xdata}))\n",
    "print(\"실제값:\",sess.run(target, feed_dict={y:ydata}))\n",
    "is_correct=tf.equal(prediction, target)\n",
    "accuracy=tf.reduce_mean(tf.cast(is_correct,tf.float32))\n",
    "print(\"정확도:%.2f\" % sess.run(accuracy*100, \n",
    "                            feed_dict={x:xdata,y:ydata}))\n",
    "\n"
   ]
  },
  {
   "cell_type": "code",
   "execution_count": null,
   "metadata": {},
   "outputs": [],
   "source": []
  }
 ],
 "metadata": {
  "kernelspec": {
   "display_name": "Python 3",
   "language": "python",
   "name": "python3"
  },
  "language_info": {
   "codemirror_mode": {
    "name": "ipython",
    "version": 3
   },
   "file_extension": ".py",
   "mimetype": "text/x-python",
   "name": "python",
   "nbconvert_exporter": "python",
   "pygments_lexer": "ipython3",
   "version": "3.6.5"
  }
 },
 "nbformat": 4,
 "nbformat_minor": 2
}
