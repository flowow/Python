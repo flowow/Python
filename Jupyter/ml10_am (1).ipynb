{
 "cells": [
  {
   "cell_type": "code",
   "execution_count": 16,
   "metadata": {},
   "outputs": [
    {
     "name": "stdout",
     "output_type": "stream",
     "text": [
      "  calory breakfast lunch dinner exercise body_shape\n",
      "0   1200         1     0      0        2     Skinny\n",
      "1   2800         1     1      1        1     Normal\n",
      "2   3500         2     2      1        0        Fat\n",
      "3   1400         0     1      0        3     Skinny\n",
      "4   5000         2     2      2        0        Fat\n",
      "5   1300         0     0      1        2     Skinny\n",
      "6   3000         1     0      1        1     Normal\n",
      "7   4000         2     2      2        0        Fat\n",
      "8   2600         0     2      0        0     Normal\n",
      "9   3000         1     2      1        1        Fat\n",
      "[[-1.35205803  0.         -1.3764944  -1.28571429  1.        ]\n",
      " [ 0.01711466  0.         -0.22941573  0.14285714  0.        ]\n",
      " [ 0.61612771  1.29099445  0.91766294  0.14285714 -1.        ]\n",
      " [-1.18091145 -1.29099445 -0.22941573 -1.28571429  2.        ]\n",
      " [ 1.89972711  1.29099445  0.91766294  1.57142857 -1.        ]\n",
      " [-1.26648474 -1.29099445 -1.3764944   0.14285714  1.        ]\n",
      " [ 0.18826125  0.         -1.3764944   0.14285714  0.        ]\n",
      " [ 1.04399418  1.29099445  0.91766294  1.57142857 -1.        ]\n",
      " [-0.15403193 -1.29099445  0.91766294 -1.28571429 -1.        ]\n",
      " [ 0.18826125  0.          0.91766294  0.14285714  0.        ]]\n"
     ]
    }
   ],
   "source": [
    "import pandas as pd\n",
    "df=pd.DataFrame(columns=['calory','breakfast','lunch','dinner','exercise','body_shape'])\n",
    "#칼로리, 식습관,운동습관에 따른 체형 데이터\n",
    "df.loc[0]=[1200,1,0,0,2,'Skinny']\n",
    "df.loc[1]=[2800,1,1,1,1,'Normal']\n",
    "df.loc[2]=[3500,2,2,1,0,'Fat']\n",
    "df.loc[3]=[1400,0,1,0,3,'Skinny']\n",
    "df.loc[4]=[5000,2,2,2,0,'Fat']\n",
    "df.loc[5]=[1300,0,0,1,2,'Skinny']\n",
    "df.loc[6]=[3000,1,0,1,1,'Normal']\n",
    "df.loc[7]=[4000,2,2,2,0,'Fat']\n",
    "df.loc[8]=[2600,0,2,0,0,'Normal']\n",
    "df.loc[9]=[3000,1,2,1,1,'Fat']\n",
    "print(df.head(10))\n",
    "\n",
    "x=df[['calory','breakfast','lunch','dinner','exercise']]\n",
    "x\n",
    "y=df[['body_shape']]\n",
    "y\n",
    "#칼로리 값만 유난히 크므로 리스케일링(표준화)\n",
    "from sklearn.preprocessing import StandardScaler\n",
    "x_std=StandardScaler().fit_transform(x)\n",
    "print(x_std)"
   ]
  },
  {
   "cell_type": "markdown",
   "metadata": {},
   "source": [
    "## 주성분분석\n",
    "- 상관계수는 벡터의 내적이다    \n",
    " \n",
    "\n",
    "고유벡터, 고유값의 의미       \n",
    "ex) 수도관동파, 제설비용, 열사병환자수, 휴교횟수, 빙판길 사고횟수     \n",
    "5개 특징 -> 온도라는 한개의 변수로 통합할 수도 있음    \n",
    "차원의 저주: 차원이 증가함에 따라 부피도 증가, 데이터가 위치할수있는곳은 한정적이라 빈공간이 많이 생김           \n",
    "pca의 요구배경: 큰 차원의 데이터를 다룰떄 데이터의 전반적인 구조는 바꾸지 않으면서, 중복적인 정보를 갖는 차원을 감소시키기          \n",
    "\n",
    "주성분벡터: 데이터의 차원이 n 일때        \n",
    "pc1, pc2, ..., pcn 이 주성분 벡터라고 했을 때, 변위가 큰 순서대로의 방향벡터         \n",
    "pca 알고리즘은 데이터 분포에서 변위가 가장 큰 방향의 벡터에 isometric projection of data.           \n",
    "- 데이터의 구조는 크게 바꾸지 않으면서 차원을 축소하는 효과          \n",
    "\n",
    " \n",
    "n차원 -> m 차원 축소            \n",
    "pca 알고리즘은 pc1~pcm 까지의 주성분벡터가 이루는 벡터 공간으로 n 차원의 데이터를 정사영시켜서 차원 축소를 수행             \n",
    "          \n",
    "공분산(Cov(X,Y)): 둘 이상의 변량이 연관성을 가지며 분포하는 모양을 전체적으로 나타낸 분산으로 정의됨.        \n",
    "공분산=0=X,Y 가 서로독립         \n",
    "        \n",
    "공분산행렬: 2개 이상의 변량이 있는 경우에 여러개의 두 변수 값들 간의 공분산을 행렬로 표현한 것\n",
    "\n"
   ]
  },
  {
   "cell_type": "code",
   "execution_count": 15,
   "metadata": {
    "scrolled": true
   },
   "outputs": [
    {
     "data": {
      "text/plain": [
       "array([[ 1.11111111,  0.88379717,  0.76782385,  0.89376551, -0.93179808],\n",
       "       [ 0.88379717,  1.11111111,  0.49362406,  0.81967902, -0.71721914],\n",
       "       [ 0.76782385,  0.49362406,  1.11111111,  0.40056715, -0.76471911],\n",
       "       [ 0.89376551,  0.81967902,  0.40056715,  1.11111111, -0.63492063],\n",
       "       [-0.93179808, -0.71721914, -0.76471911, -0.63492063,  1.11111111]])"
      ]
     },
     "execution_count": 15,
     "metadata": {},
     "output_type": "execute_result"
    }
   ],
   "source": [
    "import numpy as np\n",
    "features=x_std.T\n",
    "cov_matrix=np.cov(features) # 공분산 행렬 구함\n",
    "cov_matrix"
   ]
  },
  {
   "cell_type": "code",
   "execution_count": 22,
   "metadata": {
    "scrolled": true
   },
   "outputs": [
    {
     "name": "stdout",
     "output_type": "stream",
     "text": [
      "고유벡터 : \n",
      "[[ 0.508005    0.0169937  -0.84711404  0.11637853  0.10244985]\n",
      " [ 0.44660335  0.36890361  0.12808055 -0.63112016 -0.49973822]\n",
      " [ 0.38377913 -0.70804084  0.20681005 -0.40305226  0.38232213]\n",
      " [ 0.42845209  0.53194699  0.3694462   0.22228235  0.58954327]\n",
      " [-0.46002038  0.2816592  -0.29450345 -0.61341895  0.49601841]]\n",
      "고유값 : \n",
      "[4.0657343  0.8387565  0.07629538 0.27758568 0.2971837 ]\n",
      "0.7318321731427544\n",
      "0.8828083437099052\n"
     ]
    }
   ],
   "source": [
    "#공분산 행렬로부터 고유값과 고유벡터 추출\n",
    "eig_vals, eig_vecs=np.linalg.eig(cov_matrix)    # eigen value/vector\n",
    "print(\"고유벡터 : \\n%s\" %eig_vecs)\n",
    "print(\"고유값 : \\n%s\" %eig_vals)\n",
    "print(eig_vals[0]/ sum(eig_vals))  # 0.73 -> 5차원 데이터를 1번째 차원으로 축소하면 73프로의 데이터가 유지\n",
    "\n",
    "print((eig_vals[0]+eig_vals[1])/ sum(eig_vals))"
   ]
  },
  {
   "cell_type": "code",
   "execution_count": 23,
   "metadata": {},
   "outputs": [
    {
     "data": {
      "text/plain": [
       "array([-2.22600943, -0.0181432 ,  1.76296611, -2.73542407,  3.02711544,\n",
       "       -2.14702579, -0.37142473,  2.59239883, -0.39347815,  0.50902498])"
      ]
     },
     "execution_count": 23,
     "metadata": {},
     "output_type": "execute_result"
    }
   ],
   "source": [
    "x_std.dot(eig_vecs.T[0]) # 고유벡터 위에 데이터를 정tk\n"
   ]
  },
  {
   "cell_type": "code",
   "execution_count": null,
   "metadata": {},
   "outputs": [],
   "source": [
    "import seaborn as sns\n",
    "import matplotlib.pyplot as plt\n",
    "\n",
    "\n",
    "pd.DataFrame(projdect. mn)(project\n",
    "sns.Import('PC1','y-axis', data=res, fit_reg=False, scatter_kws={\"s\":50},hue=\"label\")\n",
    "plt.title('pca result')\n",
    "plt.show()\n",
    "\n"
   ]
  },
  {
   "cell_type": "code",
   "execution_count": null,
   "metadata": {},
   "outputs": [],
   "source": []
  }
 ],
 "metadata": {
  "kernelspec": {
   "display_name": "Python 3",
   "language": "python",
   "name": "python3"
  },
  "language_info": {
   "codemirror_mode": {
    "name": "ipython",
    "version": 3
   },
   "file_extension": ".py",
   "mimetype": "text/x-python",
   "name": "python",
   "nbconvert_exporter": "python",
   "pygments_lexer": "ipython3",
   "version": "3.6.5"
  }
 },
 "nbformat": 4,
 "nbformat_minor": 2
}
