{
 "cells": [
  {
   "cell_type": "code",
   "execution_count": 3,
   "metadata": {},
   "outputs": [],
   "source": [
    "import tensorflow as tf"
   ]
  },
  {
   "cell_type": "code",
   "execution_count": 4,
   "metadata": {},
   "outputs": [
    {
     "name": "stdout",
     "output_type": "stream",
     "text": [
      "Tensor(\"Const:0\", shape=(), dtype=int32)\n"
     ]
    }
   ],
   "source": [
    "a=tf.constant(1) #1이라는 상수를 a라는 이름의 노드로 정의\n",
    "print(a) #a노드의 정보가 출력 스칼라는 0차원이라\n",
    "# a.eval() "
   ]
  },
  {
   "cell_type": "code",
   "execution_count": 8,
   "metadata": {},
   "outputs": [
    {
     "name": "stdout",
     "output_type": "stream",
     "text": [
      "1\n"
     ]
    }
   ],
   "source": [
    "sess=tf.Session()\n",
    "print(sess.run(a)) #a노드를(그래프를) 실행하라\n",
    "sess.close()"
   ]
  },
  {
   "cell_type": "markdown",
   "metadata": {},
   "source": [
    "### 동일 구문"
   ]
  },
  {
   "cell_type": "code",
   "execution_count": 9,
   "metadata": {},
   "outputs": [
    {
     "name": "stdout",
     "output_type": "stream",
     "text": [
      "1\n",
      "1\n"
     ]
    }
   ],
   "source": [
    "with tf.Session() as sess:\n",
    "    print(sess.run(a))\n",
    "    print(a.eval())#세션이 만들어지기 전에는 오류 발생 보통 with구문 내에서 사용 가능하지만 그냥 sees.run(a)가 일반적"
   ]
  },
  {
   "cell_type": "code",
   "execution_count": 12,
   "metadata": {},
   "outputs": [
    {
     "name": "stdout",
     "output_type": "stream",
     "text": [
      "40\n"
     ]
    }
   ],
   "source": [
    "x=tf.constant(35,name='x')\n",
    "y=tf.Variable(x+5, name='y')\n",
    "gvi=tf.global_variables_initializer()\n",
    "with tf.Session() as sess:\n",
    "    sess.run(gvi) #변수들이 초기화(개시)된다\n",
    "    print(sess.run(y))"
   ]
  },
  {
   "cell_type": "code",
   "execution_count": 21,
   "metadata": {},
   "outputs": [
    {
     "name": "stdout",
     "output_type": "stream",
     "text": [
      "9.0\n",
      "24.0\n",
      "[1. 2. 2. 2.]\n"
     ]
    }
   ],
   "source": [
    "a=tf.placeholder('float')\n",
    "b=tf.placeholder('float')\n",
    "y=tf.multiply(a,b)\n",
    "z=tf.add(y,y)\n",
    "elems=tf.Variable([1.0,2.0,2.0,2.0,])\n",
    "#elems까지 정의끝\n",
    "with tf.Session() as sess:\n",
    "    sess.run(tf.global_variables_initializer())#변수있으면 반드시 따라와야하는 구문\n",
    "    #feed\n",
    "    print(sess.run(y,feed_dict={a:3, b:3}))\n",
    "    print(sess.run(z,feed_dict={a:4, b:3}))\n",
    "    #fetch\n",
    "    print(sess.run(elems))"
   ]
  },
  {
   "cell_type": "code",
   "execution_count": 25,
   "metadata": {},
   "outputs": [
    {
     "name": "stdout",
     "output_type": "stream",
     "text": [
      "[14.0]\n"
     ]
    }
   ],
   "source": [
    "input1=tf.placeholder(tf.float32)\n",
    "input2=tf.placeholder(tf.float32)\n",
    "output=tf.multiply(input1,input2)\n",
    "with tf.Session() as sess:\n",
    "    print(sess.run([output],feed_dict={input1:7.,input2:2.})) #두 개 이상 실행시 대괄호로\n",
    "    "
   ]
  },
  {
   "cell_type": "code",
   "execution_count": 34,
   "metadata": {},
   "outputs": [
    {
     "name": "stdout",
     "output_type": "stream",
     "text": [
      "[[5. 2. 1.]\n",
      " [2. 4. 6.]]\n"
     ]
    }
   ],
   "source": [
    "#  x=tf.placeholder([None,3]) \n",
    "#None:shape이 아직 정해지지 않은 상태, 굳이 행이나 열을 세지 않아도 됨\n",
    "x=tf.placeholder(\"float\", [2,None]) #float32:4byte\n",
    "y=x*2\n",
    "with tf.Session() as sess:\n",
    "    print(sess.run(x, feed_dict={x:[[5,2,1],[2,4,6]]}))\n",
    "    res=sess.run(y,feed_dict={x:[[5,2,1],[2,4,6]]}) #x,y와 -달리 정의된 노드 아님"
   ]
  },
  {
   "cell_type": "code",
   "execution_count": 37,
   "metadata": {},
   "outputs": [
    {
     "name": "stdout",
     "output_type": "stream",
     "text": [
      "Tensor(\"random_normal_2:0\", shape=(2, 3), dtype=float32)\n",
      "[[-1.834207    2.523636    5.3439183 ]\n",
      " [ 0.18537867  1.7630076   6.0473523 ]]\n"
     ]
    }
   ],
   "source": [
    "tf.set_random_seed(777)\n",
    "norm=tf.random_normal([2,3], mean=-1,stddev=4, seed=777)\n",
    "print(norm)\n",
    "with tf.Session() as sess:\n",
    "    print(sess.run(norm))\n",
    "# sess=tf.Session()\n",
    "# print(sess.run(norm))"
   ]
  },
  {
   "cell_type": "code",
   "execution_count": 38,
   "metadata": {},
   "outputs": [
    {
     "name": "stdout",
     "output_type": "stream",
     "text": [
      "[[1 2]\n",
      " [5 6]\n",
      " [3 4]]\n"
     ]
    }
   ],
   "source": [
    "c=tf.constant([[1,2],[3,4],[5,6]])\n",
    "shuff=tf.random_shuffle(c)\n",
    "sess=tf.Session()\n",
    "print(sess.run(shuff))"
   ]
  },
  {
   "cell_type": "code",
   "execution_count": null,
   "metadata": {},
   "outputs": [],
   "source": []
  }
 ],
 "metadata": {
  "kernelspec": {
   "display_name": "Python 3",
   "language": "python",
   "name": "python3"
  },
  "language_info": {
   "codemirror_mode": {
    "name": "ipython",
    "version": 3
   },
   "file_extension": ".py",
   "mimetype": "text/x-python",
   "name": "python",
   "nbconvert_exporter": "python",
   "pygments_lexer": "ipython3",
   "version": "3.6.5"
  }
 },
 "nbformat": 4,
 "nbformat_minor": 2
}
